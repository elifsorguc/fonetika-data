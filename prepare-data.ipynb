{
 "cells": [
  {
   "cell_type": "code",
   "execution_count": 1,
   "metadata": {},
   "outputs": [
    {
     "name": "stderr",
     "output_type": "stream",
     "text": [
      "/Users/elifsorguc/Desktop/fonetika/fonetikadata/hf_audio_env/lib/python3.9/site-packages/urllib3/__init__.py:35: NotOpenSSLWarning: urllib3 v2 only supports OpenSSL 1.1.1+, currently the 'ssl' module is compiled with 'LibreSSL 2.8.3'. See: https://github.com/urllib3/urllib3/issues/3020\n",
      "  warnings.warn(\n",
      "/Users/elifsorguc/Desktop/fonetika/fonetikadata/hf_audio_env/lib/python3.9/site-packages/tqdm/auto.py:21: TqdmWarning: IProgress not found. Please update jupyter and ipywidgets. See https://ipywidgets.readthedocs.io/en/stable/user_install.html\n",
      "  from .autonotebook import tqdm as notebook_tqdm\n"
     ]
    }
   ],
   "source": [
    "import os\n",
    "import pandas as pd\n",
    "import torchaudio\n",
    "import datasets\n",
    "\n",
    "# Function to load audio dataset\n",
    "def load_audio_data(audio_files, text_files):\n",
    "    dataset = []\n",
    "    for audio_path, text_path in zip(audio_files, text_files):\n",
    "        with open(text_path, \"r\", encoding=\"utf-8\") as f:\n",
    "            text = f.read().strip()  # Read the transcript\n",
    "        \n",
    "        dataset.append({\"audio\": audio_path, \"text\": text})\n",
    "    return dataset\n",
    "\n",
    "# Define training and validation file paths\n",
    "train_audio_files = [\"./dataset/001.mp3\", \"./dataset/002.mp3\"]\n",
    "train_text_files = [\"./dataset/001.txt\", \"./dataset/002.txt\"]\n",
    "val_audio_files = [\"./dataset/003.mp3\", \"./dataset/004.mp3\"]\n",
    "val_text_files = [\"./dataset/003.txt\", \"./dataset/004.txt\"]\n",
    "\n",
    "# Load datasets properly\n",
    "dataset_dict = {\n",
    "    \"train\": load_audio_data(train_audio_files, train_text_files),\n",
    "    \"validation\": load_audio_data(val_audio_files, val_text_files),\n",
    "}\n",
    "\n",
    "# Convert to Hugging Face dataset format\n",
    "dataset = datasets.DatasetDict({\n",
    "    split: datasets.Dataset.from_pandas(pd.DataFrame(data))\n",
    "    for split, data in dataset_dict.items()\n",
    "})"
   ]
  },
  {
   "cell_type": "code",
   "execution_count": 2,
   "metadata": {},
   "outputs": [],
   "source": [
    "# Convert audio column to Hugging Face Audio format\n",
    "dataset = dataset.cast_column(\"audio\", datasets.Audio(sampling_rate=16000))"
   ]
  },
  {
   "cell_type": "code",
   "execution_count": 3,
   "metadata": {},
   "outputs": [
    {
     "name": "stdout",
     "output_type": "stream",
     "text": [
      "DatasetDict({\n",
      "    train: Dataset({\n",
      "        features: ['audio', 'text'],\n",
      "        num_rows: 2\n",
      "    })\n",
      "    validation: Dataset({\n",
      "        features: ['audio', 'text'],\n",
      "        num_rows: 2\n",
      "    })\n",
      "})\n"
     ]
    },
    {
     "name": "stderr",
     "output_type": "stream",
     "text": [
      "Saving the dataset (1/1 shards): 100%|██████████| 2/2 [00:00<00:00, 93.98 examples/s] \n",
      "Saving the dataset (1/1 shards): 100%|██████████| 2/2 [00:00<00:00, 208.05 examples/s]\n"
     ]
    }
   ],
   "source": [
    "# Print dataset structure\n",
    "print(dataset)\n",
    "\n",
    "dataset.save_to_disk(\"hf_audio_dataset\")"
   ]
  },
  {
   "cell_type": "code",
   "execution_count": 6,
   "metadata": {},
   "outputs": [
    {
     "name": "stdout",
     "output_type": "stream",
     "text": [
      "/Users/elifsorguc/Desktop/fonetika/fonetikadata/hf_audio_env/lib/python3.9/site-packages/urllib3/__init__.py:35: NotOpenSSLWarning: urllib3 v2 only supports OpenSSL 1.1.1+, currently the 'ssl' module is compiled with 'LibreSSL 2.8.3'. See: https://github.com/urllib3/urllib3/issues/3020\n",
      "  warnings.warn(\n",
      "\n",
      "    _|    _|  _|    _|    _|_|_|    _|_|_|  _|_|_|  _|      _|    _|_|_|      _|_|_|_|    _|_|      _|_|_|  _|_|_|_|\n",
      "    _|    _|  _|    _|  _|        _|          _|    _|_|    _|  _|            _|        _|    _|  _|        _|\n",
      "    _|_|_|_|  _|    _|  _|  _|_|  _|  _|_|    _|    _|  _|  _|  _|  _|_|      _|_|_|    _|_|_|_|  _|        _|_|_|\n",
      "    _|    _|  _|    _|  _|    _|  _|    _|    _|    _|    _|_|  _|    _|      _|        _|    _|  _|        _|\n",
      "    _|    _|    _|_|      _|_|_|    _|_|_|  _|_|_|  _|      _|    _|_|_|      _|        _|    _|    _|_|_|  _|_|_|_|\n",
      "\n",
      "    To log in, `huggingface_hub` requires a token generated from https://huggingface.co/settings/tokens .\n",
      "Enter your token (input will not be visible): Traceback (most recent call last):\n",
      "  File \"/Users/elifsorguc/Desktop/fonetika/fonetikadata/hf_audio_env/bin/huggingface-cli\", line 8, in <module>\n",
      "    sys.exit(main())\n",
      "  File \"/Users/elifsorguc/Desktop/fonetika/fonetikadata/hf_audio_env/lib/python3.9/site-packages/huggingface_hub/commands/huggingface_cli.py\", line 57, in main\n",
      "    service.run()\n",
      "  File \"/Users/elifsorguc/Desktop/fonetika/fonetikadata/hf_audio_env/lib/python3.9/site-packages/huggingface_hub/commands/user.py\", line 153, in run\n",
      "    login(\n",
      "  File \"/Users/elifsorguc/Desktop/fonetika/fonetikadata/hf_audio_env/lib/python3.9/site-packages/huggingface_hub/utils/_deprecation.py\", line 101, in inner_f\n",
      "    return f(*args, **kwargs)\n",
      "  File \"/Users/elifsorguc/Desktop/fonetika/fonetikadata/hf_audio_env/lib/python3.9/site-packages/huggingface_hub/utils/_deprecation.py\", line 31, in inner_f\n",
      "    return f(*args, **kwargs)\n",
      "  File \"/Users/elifsorguc/Desktop/fonetika/fonetikadata/hf_audio_env/lib/python3.9/site-packages/huggingface_hub/_login.py\", line 130, in login\n",
      "    interpreter_login(new_session=new_session)\n",
      "  File \"/Users/elifsorguc/Desktop/fonetika/fonetikadata/hf_audio_env/lib/python3.9/site-packages/huggingface_hub/utils/_deprecation.py\", line 101, in inner_f\n",
      "    return f(*args, **kwargs)\n",
      "  File \"/Users/elifsorguc/Desktop/fonetika/fonetikadata/hf_audio_env/lib/python3.9/site-packages/huggingface_hub/utils/_deprecation.py\", line 31, in inner_f\n",
      "    return f(*args, **kwargs)\n",
      "  File \"/Users/elifsorguc/Desktop/fonetika/fonetikadata/hf_audio_env/lib/python3.9/site-packages/huggingface_hub/_login.py\", line 287, in interpreter_login\n",
      "    token = getpass(\"Enter your token (input will not be visible): \")\n",
      "  File \"/Library/Developer/CommandLineTools/Library/Frameworks/Python3.framework/Versions/3.9/lib/python3.9/getpass.py\", line 77, in unix_getpass\n",
      "    passwd = _raw_input(prompt, stream, input=input)\n",
      "  File \"/Library/Developer/CommandLineTools/Library/Frameworks/Python3.framework/Versions/3.9/lib/python3.9/getpass.py\", line 146, in _raw_input\n",
      "    line = input.readline()\n",
      "KeyboardInterrupt\n"
     ]
    }
   ],
   "source": [
    "!huggingface-cli login"
   ]
  },
  {
   "cell_type": "code",
   "execution_count": 4,
   "metadata": {},
   "outputs": [
    {
     "name": "stderr",
     "output_type": "stream",
     "text": [
      "Map: 100%|██████████| 2/2 [00:00<00:00, 148.08 examples/s]?, ?it/s]\n",
      "Creating parquet from Arrow format: 100%|██████████| 1/1 [00:00<00:00, 107.46ba/s]\n",
      "Uploading the dataset shards: 100%|██████████| 1/1 [00:01<00:00,  1.15s/it]\n",
      "Map: 100%|██████████| 2/2 [00:00<00:00, 255.43 examples/s]?, ?it/s]\n",
      "Creating parquet from Arrow format: 100%|██████████| 1/1 [00:00<00:00, 409.96ba/s]\n",
      "Uploading the dataset shards: 100%|██████████| 1/1 [00:01<00:00,  1.01s/it]\n"
     ]
    },
    {
     "data": {
      "text/plain": [
       "CommitInfo(commit_url='https://huggingface.co/datasets/elifsorguc/fonetika/commit/8f73f9c4105c827a75180060441433bc28ccdbf9', commit_message='Upload dataset', commit_description='', oid='8f73f9c4105c827a75180060441433bc28ccdbf9', pr_url=None, repo_url=RepoUrl('https://huggingface.co/datasets/elifsorguc/fonetika', endpoint='https://huggingface.co', repo_type='dataset', repo_id='elifsorguc/fonetika'), pr_revision=None, pr_num=None)"
      ]
     },
     "execution_count": 4,
     "metadata": {},
     "output_type": "execute_result"
    }
   ],
   "source": [
    "dataset.push_to_hub(\"elifsorguc/fonetika\")\n"
   ]
  },
  {
   "cell_type": "code",
   "execution_count": null,
   "metadata": {},
   "outputs": [],
   "source": []
  }
 ],
 "metadata": {
  "kernelspec": {
   "display_name": "hf_audio_env",
   "language": "python",
   "name": "python3"
  },
  "language_info": {
   "codemirror_mode": {
    "name": "ipython",
    "version": 3
   },
   "file_extension": ".py",
   "mimetype": "text/x-python",
   "name": "python",
   "nbconvert_exporter": "python",
   "pygments_lexer": "ipython3",
   "version": "3.9.6"
  }
 },
 "nbformat": 4,
 "nbformat_minor": 2
}
